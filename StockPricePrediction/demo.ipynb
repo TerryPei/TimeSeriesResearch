{
 "cells": [
  {
   "cell_type": "code",
   "execution_count": null,
   "metadata": {},
   "outputs": [],
   "source": [
    "import numpy as np\n",
    "import matplotlib.pyplot as plt\n",
    "import pandas as pd"
   ]
  },
  {
   "cell_type": "code",
   "execution_count": null,
   "metadata": {},
   "outputs": [],
   "source": [
    "apple_training_complete = pd.read_csv(r'AAPL.csv')"
   ]
  },
  {
   "cell_type": "code",
   "execution_count": 3,
   "metadata": {
    "collapsed": true,
    "jupyter": {
     "outputs_hidden": true
    }
   },
   "outputs": [
    {
     "data": {
      "text/html": [
       "<div>\n",
       "<style scoped>\n",
       "    .dataframe tbody tr th:only-of-type {\n",
       "        vertical-align: middle;\n",
       "    }\n",
       "\n",
       "    .dataframe tbody tr th {\n",
       "        vertical-align: top;\n",
       "    }\n",
       "\n",
       "    .dataframe thead th {\n",
       "        text-align: right;\n",
       "    }\n",
       "</style>\n",
       "<table border=\"1\" class=\"dataframe\">\n",
       "  <thead>\n",
       "    <tr style=\"text-align: right;\">\n",
       "      <th></th>\n",
       "      <th>Open</th>\n",
       "      <th>High</th>\n",
       "      <th>Low</th>\n",
       "      <th>Close</th>\n",
       "      <th>Adj Close</th>\n",
       "      <th>Volume</th>\n",
       "    </tr>\n",
       "  </thead>\n",
       "  <tbody>\n",
       "    <tr>\n",
       "      <th>count</th>\n",
       "      <td>252.000000</td>\n",
       "      <td>252.000000</td>\n",
       "      <td>252.000000</td>\n",
       "      <td>252.000000</td>\n",
       "      <td>252.000000</td>\n",
       "      <td>2.520000e+02</td>\n",
       "    </tr>\n",
       "    <tr>\n",
       "      <th>mean</th>\n",
       "      <td>103.794375</td>\n",
       "      <td>105.278949</td>\n",
       "      <td>102.228859</td>\n",
       "      <td>103.814702</td>\n",
       "      <td>103.463032</td>\n",
       "      <td>1.512050e+08</td>\n",
       "    </tr>\n",
       "    <tr>\n",
       "      <th>std</th>\n",
       "      <td>24.087922</td>\n",
       "      <td>24.133609</td>\n",
       "      <td>23.659915</td>\n",
       "      <td>23.882168</td>\n",
       "      <td>23.998111</td>\n",
       "      <td>6.862665e+07</td>\n",
       "    </tr>\n",
       "    <tr>\n",
       "      <th>min</th>\n",
       "      <td>57.020000</td>\n",
       "      <td>57.125000</td>\n",
       "      <td>53.152500</td>\n",
       "      <td>56.092499</td>\n",
       "      <td>55.661041</td>\n",
       "      <td>4.669130e+07</td>\n",
       "    </tr>\n",
       "    <tr>\n",
       "      <th>25%</th>\n",
       "      <td>80.093750</td>\n",
       "      <td>80.860001</td>\n",
       "      <td>79.259373</td>\n",
       "      <td>80.298752</td>\n",
       "      <td>79.896794</td>\n",
       "      <td>1.030439e+08</td>\n",
       "    </tr>\n",
       "    <tr>\n",
       "      <th>50%</th>\n",
       "      <td>113.047501</td>\n",
       "      <td>115.115002</td>\n",
       "      <td>110.593750</td>\n",
       "      <td>112.773751</td>\n",
       "      <td>112.411549</td>\n",
       "      <td>1.347102e+08</td>\n",
       "    </tr>\n",
       "    <tr>\n",
       "      <th>75%</th>\n",
       "      <td>122.829998</td>\n",
       "      <td>124.895626</td>\n",
       "      <td>120.917499</td>\n",
       "      <td>122.975002</td>\n",
       "      <td>122.791516</td>\n",
       "      <td>1.808931e+08</td>\n",
       "    </tr>\n",
       "    <tr>\n",
       "      <th>max</th>\n",
       "      <td>143.600006</td>\n",
       "      <td>145.089996</td>\n",
       "      <td>141.369995</td>\n",
       "      <td>143.160004</td>\n",
       "      <td>142.946396</td>\n",
       "      <td>4.184740e+08</td>\n",
       "    </tr>\n",
       "  </tbody>\n",
       "</table>\n",
       "</div>"
      ],
      "text/plain": [
       "             Open        High         Low       Close   Adj Close  \\\n",
       "count  252.000000  252.000000  252.000000  252.000000  252.000000   \n",
       "mean   103.794375  105.278949  102.228859  103.814702  103.463032   \n",
       "std     24.087922   24.133609   23.659915   23.882168   23.998111   \n",
       "min     57.020000   57.125000   53.152500   56.092499   55.661041   \n",
       "25%     80.093750   80.860001   79.259373   80.298752   79.896794   \n",
       "50%    113.047501  115.115002  110.593750  112.773751  112.411549   \n",
       "75%    122.829998  124.895626  120.917499  122.975002  122.791516   \n",
       "max    143.600006  145.089996  141.369995  143.160004  142.946396   \n",
       "\n",
       "             Volume  \n",
       "count  2.520000e+02  \n",
       "mean   1.512050e+08  \n",
       "std    6.862665e+07  \n",
       "min    4.669130e+07  \n",
       "25%    1.030439e+08  \n",
       "50%    1.347102e+08  \n",
       "75%    1.808931e+08  \n",
       "max    4.184740e+08  "
      ]
     },
     "execution_count": 3,
     "metadata": {},
     "output_type": "execute_result"
    }
   ],
   "source": [
    "apple_training_complete.describe()"
   ]
  },
  {
   "cell_type": "code",
   "execution_count": 4,
   "metadata": {
    "collapsed": true,
    "jupyter": {
     "outputs_hidden": true
    }
   },
   "outputs": [
    {
     "data": {
      "text/html": [
       "<div>\n",
       "<style scoped>\n",
       "    .dataframe tbody tr th:only-of-type {\n",
       "        vertical-align: middle;\n",
       "    }\n",
       "\n",
       "    .dataframe tbody tr th {\n",
       "        vertical-align: top;\n",
       "    }\n",
       "\n",
       "    .dataframe thead th {\n",
       "        text-align: right;\n",
       "    }\n",
       "</style>\n",
       "<table border=\"1\" class=\"dataframe\">\n",
       "  <thead>\n",
       "    <tr style=\"text-align: right;\">\n",
       "      <th></th>\n",
       "      <th>Date</th>\n",
       "      <th>Open</th>\n",
       "      <th>High</th>\n",
       "      <th>Low</th>\n",
       "      <th>Close</th>\n",
       "      <th>Adj Close</th>\n",
       "      <th>Volume</th>\n",
       "    </tr>\n",
       "  </thead>\n",
       "  <tbody>\n",
       "    <tr>\n",
       "      <th>0</th>\n",
       "      <td>2020-03-02</td>\n",
       "      <td>70.570000</td>\n",
       "      <td>75.360001</td>\n",
       "      <td>69.430000</td>\n",
       "      <td>74.702499</td>\n",
       "      <td>74.127892</td>\n",
       "      <td>341397200</td>\n",
       "    </tr>\n",
       "    <tr>\n",
       "      <th>1</th>\n",
       "      <td>2020-03-03</td>\n",
       "      <td>75.917503</td>\n",
       "      <td>76.000000</td>\n",
       "      <td>71.449997</td>\n",
       "      <td>72.330002</td>\n",
       "      <td>71.773636</td>\n",
       "      <td>319475600</td>\n",
       "    </tr>\n",
       "    <tr>\n",
       "      <th>2</th>\n",
       "      <td>2020-03-04</td>\n",
       "      <td>74.110001</td>\n",
       "      <td>75.849998</td>\n",
       "      <td>73.282501</td>\n",
       "      <td>75.684998</td>\n",
       "      <td>75.102829</td>\n",
       "      <td>219178400</td>\n",
       "    </tr>\n",
       "    <tr>\n",
       "      <th>3</th>\n",
       "      <td>2020-03-05</td>\n",
       "      <td>73.879997</td>\n",
       "      <td>74.887497</td>\n",
       "      <td>72.852501</td>\n",
       "      <td>73.230003</td>\n",
       "      <td>72.666725</td>\n",
       "      <td>187572800</td>\n",
       "    </tr>\n",
       "    <tr>\n",
       "      <th>4</th>\n",
       "      <td>2020-03-06</td>\n",
       "      <td>70.500000</td>\n",
       "      <td>72.705002</td>\n",
       "      <td>70.307503</td>\n",
       "      <td>72.257500</td>\n",
       "      <td>71.701706</td>\n",
       "      <td>226176800</td>\n",
       "    </tr>\n",
       "  </tbody>\n",
       "</table>\n",
       "</div>"
      ],
      "text/plain": [
       "         Date       Open       High        Low      Close  Adj Close  \\\n",
       "0  2020-03-02  70.570000  75.360001  69.430000  74.702499  74.127892   \n",
       "1  2020-03-03  75.917503  76.000000  71.449997  72.330002  71.773636   \n",
       "2  2020-03-04  74.110001  75.849998  73.282501  75.684998  75.102829   \n",
       "3  2020-03-05  73.879997  74.887497  72.852501  73.230003  72.666725   \n",
       "4  2020-03-06  70.500000  72.705002  70.307503  72.257500  71.701706   \n",
       "\n",
       "      Volume  \n",
       "0  341397200  \n",
       "1  319475600  \n",
       "2  219178400  \n",
       "3  187572800  \n",
       "4  226176800  "
      ]
     },
     "execution_count": 4,
     "metadata": {},
     "output_type": "execute_result"
    }
   ],
   "source": [
    "apple_training_complete.head()"
   ]
  },
  {
   "cell_type": "code",
   "execution_count": 3,
   "metadata": {},
   "outputs": [],
   "source": [
    "apple_training_processed = apple_training_complete.iloc[:, 1:2].values #取第二列作为特征"
   ]
  },
  {
   "cell_type": "code",
   "execution_count": 6,
   "metadata": {},
   "outputs": [
    {
     "data": {
      "text/plain": [
       "(252, 1)"
      ]
     },
     "execution_count": 6,
     "metadata": {},
     "output_type": "execute_result"
    }
   ],
   "source": [
    "apple_training_processed.shape"
   ]
  },
  {
   "cell_type": "code",
   "execution_count": 7,
   "metadata": {},
   "outputs": [
    {
     "data": {
      "text/plain": [
       "array([70.57])"
      ]
     },
     "execution_count": 7,
     "metadata": {},
     "output_type": "execute_result"
    }
   ],
   "source": [
    "apple_training_processed[0]"
   ]
  },
  {
   "cell_type": "markdown",
   "metadata": {},
   "source": [
    "# Data Normalization "
   ]
  },
  {
   "cell_type": "code",
   "execution_count": 4,
   "metadata": {},
   "outputs": [],
   "source": [
    "from sklearn.preprocessing import MinMaxScaler\n",
    "scaler = MinMaxScaler(feature_range = (0, 1))\n",
    "\n",
    "apple_training_scaled = scaler.fit_transform(apple_training_processed)"
   ]
  },
  {
   "cell_type": "code",
   "execution_count": 5,
   "metadata": {},
   "outputs": [
    {
     "name": "stdout",
     "output_type": "stream",
     "text": [
      "(252, 1)\n",
      "0.2542735328523771\n",
      "[0.25427353]\n"
     ]
    }
   ],
   "source": [
    "print(apple_training_scaled.shape)\n",
    "print(apple_training_scaled[60, 0])\n",
    "print(apple_training_scaled[60])"
   ]
  },
  {
   "cell_type": "markdown",
   "metadata": {},
   "source": [
    "# LSTM model\n",
    "https://pytorch.org/docs/stable/generated/torch.nn.LSTM.html#torch.nn.LSTM\n",
    "\n",
    "## 1.\n",
    "(seq_len, batch, input_size)\n",
    "\n",
    "\n",
    "seq_len: is indeed the length of the sequence such as the number of words in a sentence or the number of characters in a string. \n",
    "input_size: reflects the number of features. \n",
    "\n",
    "本案例中要用过去60天的sample预测当前的value，所以seq_len为60\n",
    "\n",
    "## 2.\n",
    "h_0 of shape (num_layers * num_directions, batch, hidden_size): tensor containing the initial hidden state for each element in the batch. If the LSTM is bidirectional, num_directions should be 2, else it should be 1.\n",
    "\n",
    "c_0 of shape (num_layers * num_directions, batch, hidden_size): tensor containing the initial cell state for each element in the batch.\n",
    "\n",
    "If (h_0, c_0) is not provided, both h_0 and c_0 default to zero.\n",
    "\n",
    "h_n of shape (num_layers * num_directions, batch, hidden_size): tensor containing the hidden state for t = seq_len.\n",
    "\n",
    "Like output, the layers can be separated using h_n.view(num_layers, num_directions, batch, hidden_size) and similarly for c_n.\n",
    "\n",
    "c_n of shape (num_layers * num_directions, batch, hidden_size): tensor containing the cell state for t = seq_len."
   ]
  },
  {
   "cell_type": "code",
   "execution_count": 5,
   "metadata": {},
   "outputs": [],
   "source": [
    "import torch\n",
    "import torch.nn as nn\n",
    "import torch.utils.data as Data\n",
    "import torchvision\n",
    "import matplotlib.pyplot as plt\n",
    "%matplotlib inline"
   ]
  },
  {
   "cell_type": "code",
   "execution_count": 6,
   "metadata": {},
   "outputs": [],
   "source": [
    "valid_ratio = 0.8\n",
    "batch_size = 20\n",
    "epoch_size = 50\n",
    "lr = 1e-3\n",
    "seq_len = 60"
   ]
  },
  {
   "cell_type": "code",
   "execution_count": 7,
   "metadata": {},
   "outputs": [],
   "source": [
    "class RNN(nn.Module):\n",
    "    def __init__(self):\n",
    "        super(RNN, self).__init__()\n",
    "        self.f1 = nn.LSTM(input_size=1, hidden_size=50, num_layers=1, batch_first=True)\n",
    "        self.f2 = nn.LSTM(input_size=50, hidden_size=50, num_layers=1, batch_first=True)\n",
    "        self.f3 = nn.LSTM(input_size=50, hidden_size=50, num_layers=1, batch_first=True)\n",
    "        self.f4 = nn.Linear(50, 1)\n",
    "        \n",
    "    def forward(self, x):\n",
    "        out1, (h_n, h_c) = self.f1(x, None) #(h0, c0)初始化为0\n",
    "        out2, (h_n, h_c) = self.f2(out1, None)\n",
    "        out3, (h_n, h_c) = self.f3(out2, None)\n",
    "        out = self.f4(out3[:, -1, :])#忘加f2\n",
    "        return out#忘记return"
   ]
  },
  {
   "cell_type": "code",
   "execution_count": 8,
   "metadata": {},
   "outputs": [
    {
     "name": "stdout",
     "output_type": "stream",
     "text": [
      "torch.Size([192, 60, 1]) [192个sample, 过去的60个时间点组成一个sequence，每个时间点取1个特征]\n"
     ]
    }
   ],
   "source": [
    "features_set, labels = [], []\n",
    "for i in range(seq_len, apple_training_scaled.shape[0]):\n",
    "    features_set.append(apple_training_scaled[i-seq_len:i, 0]) #当前label的值取决于label前60天的股票值\n",
    "    labels.append(apple_training_scaled[i, 0])\n",
    "features_set, labels = np.array(features_set), np.array(labels)\n",
    "#print(features_set.shape, labels.shape)\n",
    "features_set = features_set.astype(np.float32)\n",
    "labels = labels.astype(np.float32)\n",
    "features_set = torch.from_numpy(features_set)\n",
    "labels = torch.from_numpy(labels)\n",
    "\n",
    "#features_set = np.reshape(features_set, (features_set.shape[0], features_set.shape[1], 1))\n",
    "features_set = features_set.view(features_set.shape[0], features_set.shape[1], 1)\n",
    "print(features_set.shape, \"[192个sample, 过去的60个时间点组成一个sequence，每个时间点取1个特征]\")"
   ]
  },
  {
   "cell_type": "code",
   "execution_count": 9,
   "metadata": {},
   "outputs": [],
   "source": [
    "train_num = int(features_set.shape[0] * valid_ratio)\n",
    "features_train, labels_train = features_set[ : train_num], labels[ : train_num]\n",
    "features_test, labels_test = features_set[train_num : ], labels[train_num : ]"
   ]
  },
  {
   "cell_type": "code",
   "execution_count": 10,
   "metadata": {},
   "outputs": [
    {
     "name": "stdout",
     "output_type": "stream",
     "text": [
      "RNN(\n",
      "  (f1): LSTM(1, 50, batch_first=True)\n",
      "  (f2): LSTM(50, 50, batch_first=True)\n",
      "  (f3): LSTM(50, 50, batch_first=True)\n",
      "  (f4): Linear(in_features=50, out_features=1, bias=True)\n",
      ")\n"
     ]
    }
   ],
   "source": [
    "train_dataset = Data.TensorDataset(features_train, labels_train)\n",
    "train_loader = Data.DataLoader(dataset=train_dataset, batch_size=batch_size, shuffle=False)\n",
    "\n",
    "model = RNN()\n",
    "optimizer = torch.optim.Adam(model.parameters(), lr=lr, betas=(0.9, 0.99))\n",
    "loss_func = torch.nn.MSELoss()\n",
    "\n",
    "\n",
    "#print(\"| features_set: {:} | labels: {:}\".format(features_set.shape, labels.shape))\n",
    "#for x_train, x_label in train_loader:\n",
    "#    print(\"| x_train: {:}       | x_label: {:}\".format(x_train.shape, x_label.shape))\n",
    "#    break\n",
    "print(model)"
   ]
  },
  {
   "cell_type": "markdown",
   "metadata": {},
   "source": [
    "In order to train LSTM on our data, we need to convert our data into the shape accepted by the LSTM. We need to convert our data into three-dimensional format. The first dimension is the number of records or rows in the dataset which is batch_size in our case. The second dimension is the number of time steps which is 60 while the last dimension is the number of indicators. Since we are only using one feature, i.e Open, the number of features indicators will be one. Execute the following script:"
   ]
  },
  {
   "cell_type": "code",
   "execution_count": 11,
   "metadata": {},
   "outputs": [],
   "source": [
    "loss_record = []\n",
    "rmse_record = []\n",
    "for epoch in range(epoch_size):\n",
    "    loss_epoch = 0\n",
    "    for x_train, x_label in train_loader:\n",
    "        x_train = x_train.view(x_train.shape[0], -1, 1)\n",
    "        output = model(x_train)\n",
    "        #print(output.view(-1).shape, x_label.shape)\n",
    "        #print(output.shape, labels.shape)\n",
    "        loss_batch = loss_func(output.view(-1), x_label)\n",
    "        loss_epoch = loss_epoch + loss_batch\n",
    "        optimizer.zero_grad()\n",
    "        loss_batch.backward()\n",
    "        optimizer.step()\n",
    "    loss_record.append(loss_epoch.data.numpy())\n",
    "    with torch.no_grad():\n",
    "        output = model(features_test.view(features_test.shape[0], -1, 1))\n",
    "        rmse = loss_func(output.view(-1), labels_test)\n",
    "        rmse_record.append(rmse.data.numpy())"
   ]
  },
  {
   "cell_type": "code",
   "execution_count": 14,
   "metadata": {
    "jupyter": {
     "source_hidden": true
    }
   },
   "outputs": [],
   "source": [
    "def show_loss_rmse(loss_his, rmse_his, dataname):\n",
    "    fig, (ax1, ax2) = plt.subplots(2, 1)\n",
    "    \n",
    "    x_loss = range(len(loss_his))\n",
    "    ax1.plot(x_loss, loss_his, label='loss', color = 'g', linewidth=2)\n",
    "    ax1.set_xlabel('iteration')\n",
    "    ax1.set_ylabel('loss')\n",
    "    #ax1.set_facecolor('lightsteelblue')\n",
    "    ax1.grid(b=True, color='gray', linestyle='--', linewidth=1, alpha=0.8)\n",
    "    ax1.legend()\n",
    "    \n",
    "    x_rmse = range(len(rmse_his))\n",
    "    ax2.plot(x_rmse, rmse_his, label='rmse', color = 'r', linewidth=2)\n",
    "    ax2.set_xlabel('iteration')\n",
    "    ax2.set_ylabel('rmse')\n",
    "    ax2.grid(b=True, color='gray', linestyle='--', linewidth=1, alpha=0.8)\n",
    "    ax2.legend()\n",
    "    \n",
    "    #plt.savefig(\"./Results/images/test_nmf_\" + dataname + \".png\", dpi=750, bbox_inches = 'tight')"
   ]
  },
  {
   "cell_type": "code",
   "execution_count": 15,
   "metadata": {},
   "outputs": [
    {
     "data": {
      "image/png": "[encoded data removed]",
      "text/plain": [
       "<Figure size 432x288 with 2 Axes>"
      ]
     },
     "metadata": {
      "needs_background": "light"
     },
     "output_type": "display_data"
    }
   ],
   "source": [
    "show_loss_rmse(loss_record, rmse_record, \"apple_stock_price\")"
   ]
  },
  {
   "cell_type": "code",
   "execution_count": 38,
   "metadata": {},
   "outputs": [
    {
     "name": "stdout",
     "output_type": "stream",
     "text": [
      "0.042036287 0.00552317\n"
     ]
    }
   ],
   "source": [
    "print(loss_record[-1], rmse_record[-1])"
   ]
  },
  {
   "cell_type": "code",
   "execution_count": 18,
   "metadata": {},
   "outputs": [
    {
     "data": {
      "text/plain": [
       "[1, 2, 3, 4, 5, 6, 7, 8, 9]"
      ]
     },
     "execution_count": 18,
     "metadata": {},
     "output_type": "execute_result"
    }
   ],
   "source": [
    "list(range(1, 10, 1))"
   ]
  },
  {
   "cell_type": "markdown",
   "metadata": {},
   "source": [
    "# Influence of Sequence Length to Prediction (accuracy measured by rmse)"
   ]
  },
  {
   "cell_type": "code",
   "execution_count": 1,
   "metadata": {},
   "outputs": [],
   "source": [
    "import pandas as pd\n",
    "import numpy as np\n",
    "import torch\n",
    "import torch.nn as nn\n",
    "import torch.utils.data as Data\n",
    "import torchvision\n",
    "import matplotlib.pyplot as plt\n",
    "from sklearn.preprocessing import MinMaxScaler\n",
    "%matplotlib inline"
   ]
  },
  {
   "cell_type": "code",
   "execution_count": 2,
   "metadata": {},
   "outputs": [],
   "source": [
    "apple_training_complete = pd.read_csv(r'AAPL.csv')\n",
    "apple_training_processed = apple_training_complete.iloc[:, 1:2].values #取第二列作为特征\n",
    "scaler = MinMaxScaler(feature_range = (0, 1))\n",
    "apple_training_scaled = scaler.fit_transform(apple_training_processed)"
   ]
  },
  {
   "cell_type": "code",
   "execution_count": 3,
   "metadata": {},
   "outputs": [],
   "source": [
    "class RNN(nn.Module):\n",
    "    def __init__(self):\n",
    "        super(RNN, self).__init__()\n",
    "        self.f1 = nn.LSTM(input_size=1, hidden_size=50, num_layers=1, batch_first=True)\n",
    "        self.f2 = nn.LSTM(input_size=50, hidden_size=50, num_layers=1, batch_first=True)\n",
    "        self.f3 = nn.LSTM(input_size=50, hidden_size=50, num_layers=1, batch_first=True)\n",
    "        self.f4 = nn.Linear(50, 1)\n",
    "        \n",
    "    def forward(self, x):\n",
    "        out1, (h_n, h_c) = self.f1(x, None) #(h0, c0)初始化为0\n",
    "        out2, (h_n, h_c) = self.f2(out1, None)\n",
    "        out3, (h_n, h_c) = self.f3(out2, None)\n",
    "        out = self.f4(out3[:, -1, :])#忘加f2\n",
    "        return out#忘记return"
   ]
  },
  {
   "cell_type": "code",
   "execution_count": 4,
   "metadata": {},
   "outputs": [],
   "source": [
    "def get_sequence_features(seq_len):\n",
    "    features_set, labels = [], []\n",
    "    for i in range(seq_len, apple_training_scaled.shape[0]):\n",
    "        features_set.append(apple_training_scaled[i-seq_len:i, 0]) #当前label的值取决于label前60天的股票值\n",
    "        labels.append(apple_training_scaled[i, 0])\n",
    "    features_set, labels = np.array(features_set), np.array(labels)\n",
    "    #print(features_set.shape, labels.shape)\n",
    "    features_set = features_set.astype(np.float32)\n",
    "    labels = labels.astype(np.float32)\n",
    "    features_set = torch.from_numpy(features_set)\n",
    "    labels = torch.from_numpy(labels)\n",
    "\n",
    "    features_set = features_set.view(features_set.shape[0], features_set.shape[1], 1)\n",
    "    return features_set, labels"
   ]
  },
  {
   "cell_type": "code",
   "execution_count": 5,
   "metadata": {},
   "outputs": [],
   "source": [
    "valid_ratio = 0.8\n",
    "batch_size = 20\n",
    "epoch_size = 30\n",
    "lr = 1e-3\n",
    "start_len = 55\n",
    "end_len = 65"
   ]
  },
  {
   "cell_type": "code",
   "execution_count": 6,
   "metadata": {},
   "outputs": [
    {
     "name": "stdout",
     "output_type": "stream",
     "text": [
      "Sequence Length is: 55 | Loss: 0.04095 | Rmse: 0.005666\n",
      "Sequence Length is: 56 | Loss: 0.04425 | Rmse: 0.004134\n",
      "Sequence Length is: 57 | Loss: 0.05824 | Rmse: 0.004835\n",
      "Sequence Length is: 58 | Loss: 0.04247 | Rmse: 0.004072\n",
      "Sequence Length is: 59 | Loss: 0.06551 | Rmse: 0.004318\n",
      "Sequence Length is: 60 | Loss: 0.05615 | Rmse: 0.00776\n",
      "Sequence Length is: 61 | Loss: 0.04838 | Rmse: 0.00413\n",
      "Sequence Length is: 62 | Loss: 0.04681 | Rmse: 0.00412\n",
      "Sequence Length is: 63 | Loss: 0.05581 | Rmse: 0.004717\n",
      "Sequence Length is: 64 | Loss: 0.04944 | Rmse: 0.004749\n",
      "Sequence Length is: 65 | Loss: 0.05209 | Rmse: 0.006464\n"
     ]
    }
   ],
   "source": [
    "seq_len_list = list(range(start_len, end_len+1, 1)) #测试先验序列长度设为 55， 65之间时哪个预测的最准\n",
    "loss_compare, rmse_compare = [], []\n",
    "\n",
    "best_seq_len = start_len\n",
    "min_rmse = 1e9\n",
    "\n",
    "for seq_len in seq_len_list:\n",
    "\n",
    "    features_set, labels = get_sequence_features(seq_len)\n",
    "    train_num = int(features_set.shape[0] * valid_ratio)\n",
    "    features_train, labels_train = features_set[ : train_num], labels[ : train_num]\n",
    "    features_test, labels_test = features_set[train_num : ], labels[train_num : ]\n",
    "    \n",
    "    #print(features_train.shape, labels_train.shape, features_test.shape, labels_test.shape)\n",
    "    train_dataset = Data.TensorDataset(features_train, labels_train)\n",
    "    train_loader = Data.DataLoader(dataset=train_dataset, batch_size=batch_size, shuffle=False)\n",
    "    \n",
    "    model = RNN()\n",
    "    optimizer = torch.optim.Adam(model.parameters(), lr=lr, betas=(0.9, 0.99))\n",
    "    loss_func = torch.nn.MSELoss()\n",
    "    \n",
    "    loss_record = []\n",
    "    rmse_record = []\n",
    "    for epoch in range(epoch_size):\n",
    "        loss_epoch = 0\n",
    "        for x_train, x_label in train_loader:\n",
    "            x_train = x_train.view(x_train.shape[0], -1, 1)\n",
    "            output = model(x_train)\n",
    "            #print(output.view(-1).shape, x_label.shape)\n",
    "            #print(output.shape, labels.shape)\n",
    "            loss_batch = loss_func(output.view(-1), x_label)\n",
    "            loss_epoch += loss_batch\n",
    "            optimizer.zero_grad()\n",
    "            loss_batch.backward()\n",
    "            optimizer.step()\n",
    "        loss_record.append(loss_epoch.data.numpy())\n",
    "        with torch.no_grad():\n",
    "            output = model(features_test.view(features_test.shape[0], -1, 1))\n",
    "            rmse = loss_func(output.view(-1), labels_test)\n",
    "            rmse_record.append(rmse.data.numpy())\n",
    "    \n",
    "    if rmse_record[-1] < min_rmse:\n",
    "        min_rmse = rmse_record[-1]\n",
    "        best_seq_len = seq_len\n",
    "        #print(min_rmse)\n",
    "\n",
    "    loss_compare.append(loss_record[-1])\n",
    "    rmse_compare.append(rmse_record[-1])\n",
    "    \n",
    "    print(\"Sequence Length is: {:} | Loss: {:4.4} | Rmse: {:4.4}\".format(seq_len, loss_record[-1], rmse_record[-1]))"
   ]
  },
  {
   "cell_type": "code",
   "execution_count": 7,
   "metadata": {},
   "outputs": [
    {
     "name": "stdout",
     "output_type": "stream",
     "text": [
      "Best Sequence Length For Predicting Stock Price of Apple is 58.\n"
     ]
    }
   ],
   "source": [
    "print(\"Best Sequence Length For Predicting Stock Price of Apple is {:}.\".format(best_seq_len))"
   ]
  },
  {
   "cell_type": "markdown",
   "metadata": {},
   "source": [
    "# Compare different optimizer"
   ]
  },
  {
   "cell_type": "code",
   "execution_count": null,
   "metadata": {},
   "outputs": [],
   "source": []
  }
 ],
 "metadata": {
  "kernelspec": {
   "display_name": "Python 3",
   "language": "python",
   "name": "python3"
  },
  "language_info": {
   "codemirror_mode": {
    "name": "ipython",
    "version": 3
   },
   "file_extension": ".py",
   "mimetype": "text/x-python",
   "name": "python",
   "nbconvert_exporter": "python",
   "pygments_lexer": "ipython3",
   "version": "3.8.3"
  }
 },
 "nbformat": 4,
 "nbformat_minor": 4
}
